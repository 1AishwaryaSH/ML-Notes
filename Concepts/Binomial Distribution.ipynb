{
 "cells": [
  {
   "cell_type": "markdown",
   "metadata": {},
   "source": [
    "## Binomial Distribution\n",
    "### What is it?\n",
    "A binomial distribution can be thought of as simply the probability of a SUCCESS or FAILURE outcome in an experiment or survey.\n",
    "\n",
    "> Probability of x success out of n trial.\n",
    "\n",
    "#### Conditions\n",
    "1. Always a fixed number of trials.\n",
    "2. Two options (SUCCESS or FAILURE). Success doesn't tell good or bad but rather depends on how we interpet it.\n",
    "\n",
    "> Probability of success $p=\\frac{x}{n}$\n",
    "\n",
    "> probability of failure q = 1 - p.\n",
    "\n",
    "> Distribution $\\chi=B( n, p)$\n",
    "\n",
    "> Expected value:<br>\n",
    "$\\mu=n.p$<br>\n",
    "$\\sigma= \\sqrt npq$\n",
    "\n",
    "\n",
    "> Foruma:\n",
    "$ {n \\choose x}p^x(1-p)^(n-x)$"
   ]
  },
  {
   "cell_type": "markdown",
   "metadata": {},
   "source": [
    "### Example 1\n",
    "\n",
    "#### Statement: As a sales manager you analyze the sales record for all sales person under your guidance.\n",
    "\n",
    "Joan has a success rate of 75% and averages 10 calls per day.<br>\n",
    "Margo has a success rate of 45% but averages 16 calls per day\n",
    "\n",
    "\n",
    "#### Questions\n",
    "\n",
    "> 1. What is the probability of each sales person making 6 sales during any given day.\n",
    "\n",
    "\n",
    "Solution:\n",
    "\n",
    "For Joan<br>\n",
    "n=10<br>\n",
    "p=0.75<br>\n",
    "x=6<br>\n",
    "\n",
    "\n",
    "$ {10 \\choose 6}0.75^6(1-0.75)^(10-6) = 0.146$\n",
    "\n",
    "For Margo<br>\n",
    "n=16<br>\n",
    "p=0.45<br>\n",
    "x=6<br>\n",
    "\n",
    "$ {16 \\choose 6}0.45^6(1-0.45)^(16-6) = 0.168$\n"
   ]
  },
  {
   "cell_type": "code",
   "execution_count": null,
   "metadata": {},
   "outputs": [],
   "source": []
  }
 ],
 "metadata": {
  "kernelspec": {
   "display_name": "Python 3",
   "language": "python",
   "name": "python3"
  },
  "language_info": {
   "codemirror_mode": {
    "name": "ipython",
    "version": 3
   },
   "file_extension": ".py",
   "mimetype": "text/x-python",
   "name": "python",
   "nbconvert_exporter": "python",
   "pygments_lexer": "ipython3",
   "version": "3.7.7"
  }
 },
 "nbformat": 4,
 "nbformat_minor": 4
}
