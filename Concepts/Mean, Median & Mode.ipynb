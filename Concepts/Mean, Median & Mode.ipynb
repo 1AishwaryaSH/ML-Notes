{
 "cells": [
  {
   "cell_type": "markdown",
   "metadata": {},
   "source": [
    "## Mean, Median and Mode\n",
    "\n",
    "This is one of the most important topic in data science that you'll use very frequently.\n",
    "<hr>\n",
    "\n",
    "### Mean\n",
    "It is also called the averge $\\frac{\\sum_{i=0}^{n}}{n}$, where n is the number of items in list. So, basically it is the average of all elements in array.\n",
    "<hr>\n",
    "\n",
    "### Median\n",
    "It is the middle element in the list. There are 2 possible case.\n",
    "1. No. of element count is odd.<br>\n",
    "        In such case take the middle element.\n",
    "2. No. of element count is even<br>\n",
    "        In such case take the average of 2 elements that lie in the middle.\n",
    "\n",
    "<hr>\n",
    "\n",
    "### Mode\n",
    "It is the most ocurring element in the array.\n",
    "\n",
    "#### This is all the theory you need to know for now. We will now look at some examples and understand them better.\n",
    "<hr>"
   ]
  },
  {
   "cell_type": "markdown",
   "metadata": {},
   "source": [
    "## Examples\n",
    "\n",
    "Let's say you have to find mean, median and mode of weights of students in a class.<br><br>\n",
    "You are given following distribution and array - <br>\n",
    "array = 75 65 40 82 79 49 76 73 54 70 84 99 87 41 54 78 65 93 64 54 79 43 65 45 61 86 85 60 74 45 56 74 74 77 70 50 94 93 97 64 40 47 52 45 95 96 60 67 86 62 53 50 50 92 82 81 49 65 97 69\n",
    "\n",
    "![image.png](../assets/images/weights_mean.png)\n",
    "\n",
    "\n",
    "### Questions\n",
    "> 1. Find Mean, Median and Mode\n",
    "> 2. How does Mean, Median and Mode change when a 190 is added (assuming a student has overweight).\n",
    "\n",
    "### Answers\n",
    "1. Mean = 68.53<br>\n",
    "    Median = 68.0<br>\n",
    "    Mode = 65.0<br>\n",
    "    \n",
    "2. After adding 190<br>\n",
    "    Mean = 70.03<br>\n",
    "    Median = 69.0<br>\n",
    "    Mode = 65<br>"
   ]
  },
  {
   "cell_type": "markdown",
   "metadata": {},
   "source": [
    "## Conclusion\n",
    "\n",
    "1. Mean is not robust to outliers. Although the difference you saw is just small but in small cases it may change drastically. Sometimes it may happen because of bad/invalid input. "
   ]
  },
  {
   "cell_type": "code",
   "execution_count": null,
   "metadata": {},
   "outputs": [],
   "source": []
  }
 ],
 "metadata": {
  "kernelspec": {
   "display_name": "Python 3.7.7 64-bit ('nlp': conda)",
   "language": "python",
   "name": "python37764bitnlpconda023c561587e543c88e55ee37daf8a2ed"
  },
  "language_info": {
   "codemirror_mode": {
    "name": "ipython",
    "version": 3
   },
   "file_extension": ".py",
   "mimetype": "text/x-python",
   "name": "python",
   "nbconvert_exporter": "python",
   "pygments_lexer": "ipython3",
   "version": "3.7.7"
  }
 },
 "nbformat": 4,
 "nbformat_minor": 4
}
